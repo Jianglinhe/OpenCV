{
 "cells": [
  {
   "cell_type": "markdown",
   "metadata": {},
   "source": [
    "## 高通滤波器（HPF）"
   ]
  },
  {
   "cell_type": "markdown",
   "metadata": {},
   "source": [
    "- 检测图像的某个区域，然后根据像素与周围像素的亮度差值来提升该像素的亮度的滤波器\n",
    "- kernel\n",
    "[[0, -0.25, 0],\n",
    " [-0.25, 1, -0.25],\n",
    " [0, -0.25, 0]\n",
    "]\n",
    "- 核是指一组权重的集合，它会应用在原图像的一个区域，并由此生成目标图像的一个像素"
   ]
  },
  {
   "cell_type": "code",
   "execution_count": 1,
   "metadata": {},
   "outputs": [],
   "source": [
    "import cv2\n",
    "import numpy as np\n",
    "from scipy import ndimage"
   ]
  },
  {
   "cell_type": "markdown",
   "metadata": {},
   "source": [
    "- numpy只接受一位数组的卷积，素有选择用ndimage（Scipy模块中）的convolve()函数可以解决这个问题"
   ]
  },
  {
   "cell_type": "code",
   "execution_count": 2,
   "metadata": {},
   "outputs": [],
   "source": [
    "# 生成两个滤波器，滤波器中的所有制加起来为0\n",
    "kernel_3x3 = np.array([[-1, -1, -1],\n",
    "                      [-1, 8, -1],\n",
    "                      [-1, -1, -1]])\n",
    "kernel_5x5 = np.array([[-1, -1, -1, -1, -1],\n",
    "                       [-1, 1, 2, 1, -1],\n",
    "                       [-1, 2, 4, 2, -1],\n",
    "                       [-1, 1, 2, 1, -1],\n",
    "                       [-1, -1, -1, -1,-1]])"
   ]
  },
  {
   "cell_type": "code",
   "execution_count": 3,
   "metadata": {},
   "outputs": [
    {
     "name": "stdout",
     "output_type": "stream",
     "text": [
      "(1200, 1600)\n"
     ]
    }
   ],
   "source": [
    "img = cv2.imread('myPic.png', 0) # 以灰度图的形式读入\n",
    "print(img.shape)"
   ]
  },
  {
   "cell_type": "code",
   "execution_count": 4,
   "metadata": {},
   "outputs": [],
   "source": [
    "k3 = ndimage.convolve(img, kernel_3x3) # 通过两个自定义的卷积核来实现两个高通滤波器\n",
    "k5 = ndimage.convolve(img, kernel_5x5)"
   ]
  },
  {
   "cell_type": "code",
   "execution_count": 7,
   "metadata": {},
   "outputs": [],
   "source": [
    "cv2.imshow(\"3x3\", k3)\n",
    "cv2.imshow(\"5x5\", k5)\n",
    "\n",
    "cv2.waitKey(10000)\n",
    "cv2.destroyAllWindows()"
   ]
  },
  {
   "cell_type": "code",
   "execution_count": 8,
   "metadata": {},
   "outputs": [
    {
     "data": {
      "text/plain": [
       "True"
      ]
     },
     "execution_count": 8,
     "metadata": {},
     "output_type": "execute_result"
    }
   ],
   "source": [
    "cv2.imwrite('k3.png', k3)\n",
    "cv2.imwrite('k5.png', k5)"
   ]
  },
  {
   "cell_type": "markdown",
   "metadata": {},
   "source": [
    "## 低通滤波器（LPF）"
   ]
  },
  {
   "cell_type": "markdown",
   "metadata": {},
   "source": [
    "- 在像素与周围像素的亮度差值小于一个特定值时，平滑该像素的亮度，主要用于去噪和模糊化，高斯模糊是最常用的模糊滤波器（平滑滤波器）之一，它是一个削弱高频信号强度的低通滤波器"
   ]
  },
  {
   "cell_type": "code",
   "execution_count": null,
   "metadata": {},
   "outputs": [],
   "source": [
    "blured = cv2.GaussianBlur(img, (11, 11), 0) # 通过对图像应用低通滤波器之后，与原始图像计算差值，这种效果最好\n",
    "g_hpf = img - blured"
   ]
  },
  {
   "cell_type": "code",
   "execution_count": null,
   "metadata": {},
   "outputs": [],
   "source": [
    "cv2.imshow(\"g_hpf\", g_hpf)\n",
    "cv2.waitKey(10000)\n",
    "cv2.destroyAllWindows()"
   ]
  },
  {
   "cell_type": "code",
   "execution_count": null,
   "metadata": {},
   "outputs": [],
   "source": [
    "cv2.imwrite('g_hpf.png',g_hpf)"
   ]
  },
  {
   "cell_type": "markdown",
   "metadata": {},
   "source": [
    "## 边缘检测"
   ]
  },
  {
   "cell_type": "markdown",
   "metadata": {},
   "source": [
    "- 1.OpenCV提供了许多边缘检测滤波函数，包括Laplacian()、Sobel()以及Scharr().\n",
    "- 2.这些滤波函数都会将非边缘区域转化位黑色，将边缘区域转化为白色或其他饱和颜色.\n",
    "- 3.但这些函数很容易将噪声错误的识别为边缘.\n",
    "- 4.缓解这个问题的方法是在找到边缘之前对图像进行模糊处理.\n",
    "- 5.opencv提供了许多模糊滤波函数，包括blur(简单算数平均),medianBlur()以及GaussianBlur（）\n",
    "- 6.边缘检测滤波函数和模糊滤波函数的参数有很多，但总是会有一个ksize函数，是一个奇数，表示滤波核的宽度和高度（以像素为单位）"
   ]
  },
  {
   "cell_type": "markdown",
   "metadata": {},
   "source": [
    "- 1.使用medianBlur（）作为模糊函数，它对于去除数字化的视频噪声非常有效，特别是去除彩色图像的噪声\n",
    "- 2.使用Laplacian（）函数作为边缘检测函数，会产生明显的边缘线条，灰度图像更是如此\n",
    "- 3.在medianBlur（）之后，Laplacian（）之前，需将图像从BRG色彩空间转化为灰度色彩空间\n",
    "- 4.得到Laplacian（)函数的结果后，需要将其转化为黑色边缘和白色背景的图像，然后将其归一化（使它的像素值在0-1之间），并乘以原图像以便能- 将边缘变黑"
   ]
  }
 ],
 "metadata": {
  "kernelspec": {
   "display_name": "Python 3",
   "language": "python",
   "name": "python3"
  },
  "language_info": {
   "codemirror_mode": {
    "name": "ipython",
    "version": 3
   },
   "file_extension": ".py",
   "mimetype": "text/x-python",
   "name": "python",
   "nbconvert_exporter": "python",
   "pygments_lexer": "ipython3",
   "version": "3.6.7"
  }
 },
 "nbformat": 4,
 "nbformat_minor": 2
}

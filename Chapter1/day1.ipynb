{
 "cells": [
  {
   "cell_type": "markdown",
   "metadata": {},
   "source": [
    "# OpenCV的imread（）函数和imwrite()函数能支持各种静态图像文件格式"
   ]
  },
  {
   "cell_type": "code",
   "execution_count": 1,
   "metadata": {},
   "outputs": [],
   "source": [
    "import numpy as np\n",
    "import cv2"
   ]
  },
  {
   "cell_type": "code",
   "execution_count": 2,
   "metadata": {},
   "outputs": [],
   "source": [
    "img = np.array([[0,0,0],\n",
    "               [0,0,0],\n",
    "               [0,0,0]], dtype=np.uint8) # 每个像素由一个8位整数来表示，即每个像素的范围位0-255"
   ]
  },
  {
   "cell_type": "code",
   "execution_count": 3,
   "metadata": {},
   "outputs": [],
   "source": [
    "img = cv2.cvtColor(img, cv2.COLOR_GRAY2BGR) # 讲灰度图转化为brg彩色图"
   ]
  },
  {
   "cell_type": "code",
   "execution_count": 4,
   "metadata": {},
   "outputs": [
    {
     "name": "stdout",
     "output_type": "stream",
     "text": [
      "[[[0 0 0]\n",
      "  [0 0 0]\n",
      "  [0 0 0]]\n",
      "\n",
      " [[0 0 0]\n",
      "  [0 0 0]\n",
      "  [0 0 0]]\n",
      "\n",
      " [[0 0 0]\n",
      "  [0 0 0]\n",
      "  [0 0 0]]]\n"
     ]
    }
   ],
   "source": [
    "print(img)"
   ]
  },
  {
   "cell_type": "code",
   "execution_count": 5,
   "metadata": {},
   "outputs": [
    {
     "name": "stdout",
     "output_type": "stream",
     "text": [
      "(3, 3)\n"
     ]
    }
   ],
   "source": [
    "img = np.zeros((3,3), dtype=np.uint8)\n",
    "print(img.shape) # 可以通过shape来查看图片的结构，会返回行和列，如果有一个以上的通道，还会返回通道数"
   ]
  },
  {
   "cell_type": "markdown",
   "metadata": {},
   "source": [
    "## 读取一种图片文件，将其保存为另一种格式"
   ]
  },
  {
   "cell_type": "code",
   "execution_count": 6,
   "metadata": {},
   "outputs": [
    {
     "data": {
      "text/plain": [
       "True"
      ]
     },
     "execution_count": 6,
     "metadata": {},
     "output_type": "execute_result"
    }
   ],
   "source": [
    "image = cv2.imread('myPic.jpg')\n",
    "cv2.imwrite('myPic.png', image) # 将jpg的图片格式转化位png格式的图片"
   ]
  },
  {
   "cell_type": "code",
   "execution_count": 7,
   "metadata": {},
   "outputs": [
    {
     "name": "stdout",
     "output_type": "stream",
     "text": [
      "(1200, 1600, 3)\n"
     ]
    }
   ],
   "source": [
    "print(image.shape)"
   ]
  },
  {
   "cell_type": "markdown",
   "metadata": {},
   "source": [
    "## 大多数常用的OpenCV函数都在cv2模块里，python模块被称为cv2"
   ]
  },
  {
   "cell_type": "markdown",
   "metadata": {},
   "source": [
    "## 在默认情况下，即使图片为灰度格式，imread()函数也会返回BGR格式图像"
   ]
  },
  {
   "cell_type": "raw",
   "metadata": {},
   "source": [
    "cv2.imread(,)第二个参数的选项\n",
    "cv2.IMREAD_GRAYSCALE = 0 # 以灰度图读入，丢失颜色通道\n",
    "cv2.IMREAD_ANYCOLOR = 4\n",
    "cv2.IMREAD_ANYDEPTH = 2\n",
    "cv2.IMREAD_COLOT = 1\n",
    "cv2.IMREAD_LOAD_GDAL = 8\n",
    "cv2.IMREAD_UNCHANGED = -1\n"
   ]
  },
  {
   "cell_type": "code",
   "execution_count": 8,
   "metadata": {},
   "outputs": [
    {
     "name": "stdout",
     "output_type": "stream",
     "text": [
      "(1200, 1600)\n"
     ]
    }
   ],
   "source": [
    "img_new = cv2.imread('myPic.jpg', cv2.IMREAD_GRAYSCALE) # 将彩色图以灰度图的形式读入，并保存为灰度图\n",
    "cv2.imwrite('gray_pic.png',img_new)\n",
    "print(img_new.shape)"
   ]
  },
  {
   "cell_type": "code",
   "execution_count": 9,
   "metadata": {},
   "outputs": [
    {
     "name": "stdout",
     "output_type": "stream",
     "text": [
      "41\n"
     ]
    }
   ],
   "source": [
    "print(img_new[0,0])"
   ]
  },
  {
   "cell_type": "code",
   "execution_count": 10,
   "metadata": {},
   "outputs": [
    {
     "name": "stdout",
     "output_type": "stream",
     "text": [
      "(1200, 1600, 3)\n"
     ]
    }
   ],
   "source": [
    "img2 = cv2.imread('gray_pic.png') # 将灰度图以彩色图读入，返回BGR格式\n",
    "cv2.imwrite('bgr.png', img2)\n",
    "print(img2.shape)"
   ]
  },
  {
   "cell_type": "code",
   "execution_count": 11,
   "metadata": {},
   "outputs": [
    {
     "name": "stdout",
     "output_type": "stream",
     "text": [
      "[41 41 41]\n"
     ]
    }
   ],
   "source": [
    "print(img2[0,0])"
   ]
  },
  {
   "cell_type": "markdown",
   "metadata": {},
   "source": [
    "## bmp格式要求每个通道有8位，而png允许每个通道有8位或16位"
   ]
  },
  {
   "cell_type": "markdown",
   "metadata": {},
   "source": [
    "## 若一幅图像的每个通道位8位，可以将其显示转换位标准的一维Python bytearray格式"
   ]
  },
  {
   "cell_type": "raw",
   "metadata": {},
   "source": [
    "bytearray() 方法返回一个新字节数组。这个数组里的元素是可变的，并且每个元素的值范围: 0 <= x < 256"
   ]
  },
  {
   "cell_type": "code",
   "execution_count": 12,
   "metadata": {},
   "outputs": [],
   "source": [
    "byteArray = bytearray(img2)"
   ]
  },
  {
   "cell_type": "raw",
   "metadata": {},
   "source": [
    "反之，bytearray含有恰当顺序的字节，可以通过显示转换和重构，得到numpy.array形式的图片"
   ]
  },
  {
   "cell_type": "code",
   "execution_count": 13,
   "metadata": {},
   "outputs": [
    {
     "name": "stdout",
     "output_type": "stream",
     "text": [
      "(1200, 1600, 3)\n"
     ]
    }
   ],
   "source": [
    "bgrImage = np.array(byteArray).reshape(1200, 1600, 3) # 将含有随机字节的bytearray转化位BGR图像，灰度图同样\n",
    "print(bgrImage.shape)"
   ]
  },
  {
   "cell_type": "code",
   "execution_count": 14,
   "metadata": {},
   "outputs": [],
   "source": [
    "import os"
   ]
  },
  {
   "cell_type": "code",
   "execution_count": 15,
   "metadata": {},
   "outputs": [],
   "source": [
    "randomByteArray = bytearray(os.urandom(120000)) # make an array of 120000 random bytes\n",
    "flatNumpyArray = np.array(randomByteArray)"
   ]
  },
  {
   "cell_type": "code",
   "execution_count": 16,
   "metadata": {},
   "outputs": [
    {
     "name": "stdout",
     "output_type": "stream",
     "text": [
      "(300, 400)\n"
     ]
    }
   ],
   "source": [
    "grayImage = flatNumpyArray.reshape(300, 400) # convert the array to make a 400*300 grayscale image\n",
    "cv2.imwrite('RandomGray.png', grayImage) # reshape的形状是高度在前，宽度在后\n",
    "print(grayImage.shape) # shape如果图像是单色或灰度，将不包含通道值"
   ]
  },
  {
   "cell_type": "code",
   "execution_count": 17,
   "metadata": {},
   "outputs": [
    {
     "name": "stdout",
     "output_type": "stream",
     "text": [
      "(100, 400, 3)\n"
     ]
    }
   ],
   "source": [
    "bgrImage = flatNumpyArray.reshape(100, 400, 3) # convert the array to make a 400*100 color imgae.\n",
    "cv2.imwrite('RandomColor.png', bgrImage)\n",
    "print(bgrImage.shape)"
   ]
  },
  {
   "cell_type": "markdown",
   "metadata": {},
   "source": [
    "- 使用np.random.randint(0, 256, 120000).reshape(300, 400)也能直接（并且更高效地）随机生成Numpy数组\n",
    "- os.urandom函数唯一的理由是该语句有助于展示原始字节的转换"
   ]
  },
  {
   "cell_type": "markdown",
   "metadata": {},
   "source": [
    "## 使用numpy.array访问图像数据"
   ]
  },
  {
   "cell_type": "code",
   "execution_count": 18,
   "metadata": {},
   "outputs": [],
   "source": [
    "img3 = cv2.imread('myPic.png')"
   ]
  },
  {
   "cell_type": "code",
   "execution_count": 19,
   "metadata": {},
   "outputs": [
    {
     "name": "stdout",
     "output_type": "stream",
     "text": [
      "(1200, 1600, 3)\n"
     ]
    }
   ],
   "source": [
    "print(img3.shape)"
   ]
  },
  {
   "cell_type": "code",
   "execution_count": 20,
   "metadata": {},
   "outputs": [
    {
     "name": "stdout",
     "output_type": "stream",
     "text": [
      "195\n"
     ]
    }
   ],
   "source": [
    "print(img3.item(150, 150, 0)) # 第三个参数位bgr通道，分别位0,1，2"
   ]
  },
  {
   "cell_type": "code",
   "execution_count": 21,
   "metadata": {},
   "outputs": [
    {
     "name": "stdout",
     "output_type": "stream",
     "text": [
      "255\n"
     ]
    }
   ],
   "source": [
    "img3.itemset((150, 150, 0), 255) # 设置某个像素点的值\n",
    "print(img3.item(150, 150, 0))"
   ]
  },
  {
   "cell_type": "code",
   "execution_count": 22,
   "metadata": {},
   "outputs": [
    {
     "data": {
      "text/plain": [
       "True"
      ]
     },
     "execution_count": 22,
     "metadata": {},
     "output_type": "execute_result"
    }
   ],
   "source": [
    "img4 = cv2.imread('myPic.png')\n",
    "img4[:,:,1] = 0 # 将图像G通道的所有值设置为0\n",
    "cv2.imwrite('lossG.png', img4) # 此时彩色图像只要b,r两个通道有值"
   ]
  },
  {
   "cell_type": "markdown",
   "metadata": {},
   "source": [
    "## 提取图像中的某一块"
   ]
  },
  {
   "cell_type": "code",
   "execution_count": 23,
   "metadata": {},
   "outputs": [
    {
     "name": "stdout",
     "output_type": "stream",
     "text": [
      "(1200, 1600, 3)\n"
     ]
    }
   ],
   "source": [
    "img5 = cv2.imread('myPic.png')\n",
    "print(img5.shape)"
   ]
  },
  {
   "cell_type": "code",
   "execution_count": 24,
   "metadata": {},
   "outputs": [
    {
     "name": "stdout",
     "output_type": "stream",
     "text": [
      "(100, 100, 3)\n"
     ]
    },
    {
     "data": {
      "text/plain": [
       "True"
      ]
     },
     "execution_count": 24,
     "metadata": {},
     "output_type": "execute_result"
    }
   ],
   "source": [
    "my_roi = img5[0:100, 0:100] # 提取左上角100*100大小的感兴趣区域\n",
    "print(my_roi.shape)\n",
    "cv2.imwrite('my_roi.png', my_roi)"
   ]
  },
  {
   "cell_type": "code",
   "execution_count": 25,
   "metadata": {},
   "outputs": [
    {
     "name": "stdout",
     "output_type": "stream",
     "text": [
      "5760000\n"
     ]
    }
   ],
   "source": [
    "print(img5.size) # 指图像像素的大小"
   ]
  },
  {
   "cell_type": "code",
   "execution_count": 26,
   "metadata": {},
   "outputs": [
    {
     "name": "stdout",
     "output_type": "stream",
     "text": [
      "uint8\n"
     ]
    }
   ],
   "source": [
    "print(img5.dtype) # 指图像的数据类型"
   ]
  },
  {
   "cell_type": "markdown",
   "metadata": {},
   "source": [
    "## 在窗口显示图像"
   ]
  },
  {
   "cell_type": "code",
   "execution_count": 30,
   "metadata": {},
   "outputs": [],
   "source": [
    "cv2.imshow('my image', img5) # 第一个参数为自己给图像显示取的名字\n",
    "cv2.waitKey(1000)\n",
    "cv2.destroyAllWindows() # 释放由OpenCV创建的所有窗口1"
   ]
  }
 ],
 "metadata": {
  "kernelspec": {
   "display_name": "Python 3",
   "language": "python",
   "name": "python3"
  },
  "language_info": {
   "codemirror_mode": {
    "name": "ipython",
    "version": 3
   },
   "file_extension": ".py",
   "mimetype": "text/x-python",
   "name": "python",
   "nbconvert_exporter": "python",
   "pygments_lexer": "ipython3",
   "version": "3.6.7"
  }
 },
 "nbformat": 4,
 "nbformat_minor": 2
}
